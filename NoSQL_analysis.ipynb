{
 "cells": [
  {
   "attachments": {},
   "cell_type": "markdown",
   "id": "9a57c4c6",
   "metadata": {},
   "source": [
    "# Eat Safe, Love"
   ]
  },
  {
   "attachments": {},
   "cell_type": "markdown",
   "id": "064ef857",
   "metadata": {},
   "source": [
    "## Notebook Set Up"
   ]
  },
  {
   "cell_type": "code",
   "execution_count": 12,
   "id": "3ecdd008",
   "metadata": {},
   "outputs": [],
   "source": [
    "# Import dependencies\n",
    "from pymongo import MongoClient\n",
    "from pprint import pprint\n",
    "import pandas as pd"
   ]
  },
  {
   "cell_type": "code",
   "execution_count": 2,
   "id": "59390c4a",
   "metadata": {},
   "outputs": [],
   "source": [
    "# Create an instance of MongoClient\n",
    "mongo = MongoClient(port=27017)"
   ]
  },
  {
   "cell_type": "code",
   "execution_count": 3,
   "id": "71e373c1",
   "metadata": {},
   "outputs": [],
   "source": [
    "# assign the uk_food database to a variable name\n",
    "db = mongo['uk_food']"
   ]
  },
  {
   "cell_type": "code",
   "execution_count": 4,
   "id": "18ab463c",
   "metadata": {},
   "outputs": [
    {
     "name": "stdout",
     "output_type": "stream",
     "text": [
      "['EPA', 'admin', 'autosauras', 'classDB', 'class_db', 'config', 'gardenDB', 'local', 'met', 'petsitly_marketing', 'test', 'travel_db', 'uk_food']\n"
     ]
    }
   ],
   "source": [
    "# review the collections in our database\n",
    "print(mongo.list_database_names())"
   ]
  },
  {
   "cell_type": "code",
   "execution_count": 5,
   "id": "11c9f11b",
   "metadata": {},
   "outputs": [],
   "source": [
    "# assign the collection to a variable\n",
    "establishments = db['establishments']"
   ]
  },
  {
   "attachments": {},
   "cell_type": "markdown",
   "id": "d5671434",
   "metadata": {},
   "source": [
    "## Part 3: Exploratory Analysis\n",
    "Unless otherwise stated, for each question: \n",
    "* Use `count_documents` to display the number of documents contained in the result.\n",
    "* Display the first document in the results using `pprint`.\n",
    "* Convert the result to a Pandas DataFrame, print the number of rows in the DataFrame, and display the first 10 rows."
   ]
  },
  {
   "attachments": {},
   "cell_type": "markdown",
   "id": "314bd884",
   "metadata": {},
   "source": [
    "### 1. Which establishments have a hygiene score equal to 20?"
   ]
  },
  {
   "cell_type": "code",
   "execution_count": 18,
   "id": "c2da7648",
   "metadata": {},
   "outputs": [
    {
     "name": "stdout",
     "output_type": "stream",
     "text": [
      "{'BusinessName': 'The Chase Rest Home',\n",
      " '_id': ObjectId('6497a39580b695e9e5e11692'),\n",
      " 'scores': {'Hygiene': 20}}\n"
     ]
    }
   ],
   "source": [
    "# Find the establishments with a hygiene score of 20\n",
    "query = {'scores.Hygiene':20}\n",
    "fields = {\"BusinessName\":1,\"scores.Hygiene\":1}\n",
    "# Use count_documents to display the number of documents in the result\n",
    "query_count = establishments.count_documents(query)\n",
    "\n",
    "# Display the first document in the results using pprint\n",
    "pprint(db.establishments.find_one(query, fields))"
   ]
  },
  {
   "cell_type": "code",
   "execution_count": 21,
   "id": "a6e5cece",
   "metadata": {},
   "outputs": [
    {
     "name": "stdout",
     "output_type": "stream",
     "text": [
      "The number of rows in the DataFrame is  41\n"
     ]
    },
    {
     "data": {
      "text/html": [
       "<div>\n",
       "<style scoped>\n",
       "    .dataframe tbody tr th:only-of-type {\n",
       "        vertical-align: middle;\n",
       "    }\n",
       "\n",
       "    .dataframe tbody tr th {\n",
       "        vertical-align: top;\n",
       "    }\n",
       "\n",
       "    .dataframe thead th {\n",
       "        text-align: right;\n",
       "    }\n",
       "</style>\n",
       "<table border=\"1\" class=\"dataframe\">\n",
       "  <thead>\n",
       "    <tr style=\"text-align: right;\">\n",
       "      <th></th>\n",
       "      <th>_id</th>\n",
       "      <th>BusinessName</th>\n",
       "      <th>scores</th>\n",
       "    </tr>\n",
       "  </thead>\n",
       "  <tbody>\n",
       "    <tr>\n",
       "      <th>0</th>\n",
       "      <td>6497a39580b695e9e5e11692</td>\n",
       "      <td>The Chase Rest Home</td>\n",
       "      <td>{'Hygiene': 20}</td>\n",
       "    </tr>\n",
       "    <tr>\n",
       "      <th>1</th>\n",
       "      <td>6497a39580b695e9e5e11a13</td>\n",
       "      <td>Brenalwood</td>\n",
       "      <td>{'Hygiene': 20}</td>\n",
       "    </tr>\n",
       "    <tr>\n",
       "      <th>2</th>\n",
       "      <td>6497a39580b695e9e5e11d1d</td>\n",
       "      <td>Melrose Hotel</td>\n",
       "      <td>{'Hygiene': 20}</td>\n",
       "    </tr>\n",
       "    <tr>\n",
       "      <th>3</th>\n",
       "      <td>6497a39580b695e9e5e11f0b</td>\n",
       "      <td>Seaford Pizza</td>\n",
       "      <td>{'Hygiene': 20}</td>\n",
       "    </tr>\n",
       "    <tr>\n",
       "      <th>4</th>\n",
       "      <td>6497a39580b695e9e5e11f1b</td>\n",
       "      <td>Golden Palace</td>\n",
       "      <td>{'Hygiene': 20}</td>\n",
       "    </tr>\n",
       "    <tr>\n",
       "      <th>5</th>\n",
       "      <td>6497a39580b695e9e5e128b6</td>\n",
       "      <td>Ashby's Butchers</td>\n",
       "      <td>{'Hygiene': 20}</td>\n",
       "    </tr>\n",
       "    <tr>\n",
       "      <th>6</th>\n",
       "      <td>6497a39580b695e9e5e12ada</td>\n",
       "      <td>South Sea Express Cuisine</td>\n",
       "      <td>{'Hygiene': 20}</td>\n",
       "    </tr>\n",
       "    <tr>\n",
       "      <th>7</th>\n",
       "      <td>6497a39580b695e9e5e14003</td>\n",
       "      <td>Golden Palace</td>\n",
       "      <td>{'Hygiene': 20}</td>\n",
       "    </tr>\n",
       "    <tr>\n",
       "      <th>8</th>\n",
       "      <td>6497a39580b695e9e5e14449</td>\n",
       "      <td>The Tulip Tree</td>\n",
       "      <td>{'Hygiene': 20}</td>\n",
       "    </tr>\n",
       "    <tr>\n",
       "      <th>9</th>\n",
       "      <td>6497a39580b695e9e5e14c59</td>\n",
       "      <td>F &amp; S</td>\n",
       "      <td>{'Hygiene': 20}</td>\n",
       "    </tr>\n",
       "  </tbody>\n",
       "</table>\n",
       "</div>"
      ],
      "text/plain": [
       "                        _id               BusinessName           scores\n",
       "0  6497a39580b695e9e5e11692        The Chase Rest Home  {'Hygiene': 20}\n",
       "1  6497a39580b695e9e5e11a13                 Brenalwood  {'Hygiene': 20}\n",
       "2  6497a39580b695e9e5e11d1d              Melrose Hotel  {'Hygiene': 20}\n",
       "3  6497a39580b695e9e5e11f0b              Seaford Pizza  {'Hygiene': 20}\n",
       "4  6497a39580b695e9e5e11f1b              Golden Palace  {'Hygiene': 20}\n",
       "5  6497a39580b695e9e5e128b6           Ashby's Butchers  {'Hygiene': 20}\n",
       "6  6497a39580b695e9e5e12ada  South Sea Express Cuisine  {'Hygiene': 20}\n",
       "7  6497a39580b695e9e5e14003              Golden Palace  {'Hygiene': 20}\n",
       "8  6497a39580b695e9e5e14449             The Tulip Tree  {'Hygiene': 20}\n",
       "9  6497a39580b695e9e5e14c59                      F & S  {'Hygiene': 20}"
      ]
     },
     "execution_count": 21,
     "metadata": {},
     "output_type": "execute_result"
    }
   ],
   "source": [
    "# Convert the result to a Pandas DataFrame\n",
    "results = list(establishments.find(query, fields))\n",
    "hygiene_df = pd.DataFrame(results)\n",
    "# Display the number of rows in the DataFrame\n",
    "print(\"The number of rows in the DataFrame is \", len(results))\n",
    "# Display the first 10 rows of the DataFrame\n",
    "hygiene_df.head(10)"
   ]
  },
  {
   "attachments": {},
   "cell_type": "markdown",
   "id": "0ef4395a",
   "metadata": {},
   "source": [
    "### 2. Which establishments in London have a `RatingValue` greater than or equal to 4?"
   ]
  },
  {
   "cell_type": "code",
   "execution_count": null,
   "id": "93c63829",
   "metadata": {},
   "outputs": [],
   "source": [
    "# Find the establishments with London as the Local Authority and has a RatingValue greater than or equal to 4.\n",
    "query =\n",
    "\n",
    "# Use count_documents to display the number of documents in the result\n",
    "\n",
    "# Display the first document in the results using pprint\n"
   ]
  },
  {
   "cell_type": "code",
   "execution_count": null,
   "id": "07e24ccb",
   "metadata": {},
   "outputs": [],
   "source": [
    "# Convert the result to a Pandas DataFrame\n",
    "\n",
    "# Display the number of rows in the DataFrame\n",
    "\n",
    "# Display the first 10 rows of the DataFrame\n"
   ]
  },
  {
   "attachments": {},
   "cell_type": "markdown",
   "id": "4e570caf",
   "metadata": {},
   "source": [
    "### 3. What are the top 5 establishments with a `RatingValue` rating value of 5, sorted by lowest hygiene score, nearest to the new restaurant added, \"Penang Flavours\"?"
   ]
  },
  {
   "cell_type": "code",
   "execution_count": null,
   "id": "7f599f3d",
   "metadata": {},
   "outputs": [],
   "source": [
    "# Search within 0.01 degree on either side of the latitude and longitude.\n",
    "# Rating value must equal 5\n",
    "# Sort by hygiene score\n",
    "\n",
    "degree_search = 0.01\n",
    "latitude = \n",
    "longitude = \n",
    "\n",
    "query = \n",
    "sort =  \n",
    "\n",
    "# Print the results\n"
   ]
  },
  {
   "cell_type": "code",
   "execution_count": null,
   "id": "a6ad16f7",
   "metadata": {},
   "outputs": [],
   "source": [
    "# Convert result to Pandas DataFrame\n"
   ]
  },
  {
   "attachments": {},
   "cell_type": "markdown",
   "id": "67281254",
   "metadata": {},
   "source": [
    "### 4. How many establishments in each Local Authority area have a hygiene score of 0?"
   ]
  },
  {
   "cell_type": "code",
   "execution_count": null,
   "id": "4eeb227e",
   "metadata": {},
   "outputs": [],
   "source": [
    "# Create a pipeline that: \n",
    "# 1. Matches establishments with a hygiene score of 0\n",
    "# 2. Groups the matches by Local Authority\n",
    "# 3. Sorts the matches from highest to lowest\n",
    "\n",
    "# Print the number of documents in the result\n",
    "\n",
    "# Print the first 10 results\n"
   ]
  },
  {
   "cell_type": "code",
   "execution_count": null,
   "id": "d8aab364",
   "metadata": {},
   "outputs": [],
   "source": [
    "# Convert the result to a Pandas DataFrame\n",
    "\n",
    "# Display the number of rows in the DataFrame\n",
    "\n",
    "# Display the first 10 rows of the DataFrame\n"
   ]
  }
 ],
 "metadata": {
  "kernelspec": {
   "display_name": "Python 3 (ipykernel)",
   "language": "python",
   "name": "python3"
  },
  "language_info": {
   "codemirror_mode": {
    "name": "ipython",
    "version": 3
   },
   "file_extension": ".py",
   "mimetype": "text/x-python",
   "name": "python",
   "nbconvert_exporter": "python",
   "pygments_lexer": "ipython3",
   "version": "3.9.13"
  }
 },
 "nbformat": 4,
 "nbformat_minor": 5
}
